{
 "cells": [
  {
   "cell_type": "code",
   "execution_count": 25,
   "id": "9951a692",
   "metadata": {},
   "outputs": [],
   "source": [
    "import json\n",
    "\n",
    "from prettytable import PrettyTable\n",
    "from stringMatcher import levenshtein_ratio_and_distance\n",
    "from time import time\n",
    "table=PrettyTable(field_names=['date_first_available','mrp','image_url','product_url'])\n",
    "\n"
   ]
  },
  {
   "cell_type": "markdown",
   "id": "0ea0bbcd",
   "metadata": {},
   "source": [
    "# Load The database into the memory...\n"
   ]
  },
  {
   "cell_type": "code",
   "execution_count": 26,
   "id": "ac9dbed6",
   "metadata": {},
   "outputs": [],
   "source": [
    "data = json.load(open(\"dataFinal_GIS.json\", \"rb\"))"
   ]
  },
  {
   "cell_type": "markdown",
   "id": "8b78feb1",
   "metadata": {},
   "source": [
    "# Load the Global Secondary index in the memory..."
   ]
  },
  {
   "cell_type": "code",
   "execution_count": 27,
   "id": "a5619a30",
   "metadata": {},
   "outputs": [],
   "source": [
    "GIS = json.load(open(\"kajal.json\", \"rb\"))"
   ]
  },
  {
   "cell_type": "markdown",
   "id": "48f4f829",
   "metadata": {},
   "source": [
    "# Write a function to search the product details by Pid"
   ]
  },
  {
   "cell_type": "code",
   "execution_count": 28,
   "id": "2796fa23",
   "metadata": {},
   "outputs": [],
   "source": [
    "def getClosestMatch(queryString):\n",
    "    # Initialize the time counter...\n",
    "    tic                  = time()\n",
    "    \n",
    "    # Find closest match of the queryString from the Global Secondary Index...\n",
    "    matchRatios          = [levenshtein_ratio_and_distance(queryString, KEY) for KEY, _ in GIS.items()]\n",
    "    bestMatchRatio       = max(matchRatios)\n",
    "\n",
    "    # If the best match ratio is less than 50% then we will assume that the records doesn't exist...\n",
    "    if (bestMatchRatio < 0.5):\n",
    "        return {\n",
    "            \"response code\" : 404,\n",
    "            \"search time\"   : f\"{time()-tic} seconds\",\n",
    "            \"message\"       : \"error\",\n",
    "            \"response body\" : \"no match found\"\n",
    "        }\n",
    "    \n",
    "    # Otherwise...\n",
    "    bestMatchRatio_index = matchRatios.index(bestMatchRatio)\n",
    "\n",
    "    # Find the Pid of the movie which is the best match to the queryString...\n",
    "    bestMatch_Pid = list(GIS)[bestMatchRatio_index]\n",
    "    bestMatch_product_url = GIS[bestMatch_Pid]\n",
    "\n",
    "    # Now we have Pid which is the primary key in our main data-store...\n",
    "    # Retrieve the details of the product from the Pid\n",
    "    dhamakaInfo            = data[str(bestMatch_product_url)]\n",
    "    #try:\n",
    "    #    dhamakaInfo=data[str(bestMatch_product_url)]\n",
    "    #except KeyError:\n",
    "    #    print(\"Not Found\")\n",
    "    \n",
    "    # Mark the search completion time...\n",
    "    toc                  = time()\n",
    "\n",
    "    # Add Pid to the response...\n",
    "    dhamakaInfo[\"Pid\"] = bestMatch_Pid\n",
    "    # Construct the response Model...\n",
    "    responseModel = {\n",
    "        \"response code\" : 200,\n",
    "        \"search time\"   : f\"{toc-tic} seconds\",\n",
    "        \"message\"       : \"success\",\n",
    "        \"response body\" : dhamakaInfo\n",
    "    }\n",
    "    \n",
    "    return responseModel"
   ]
  },
  {
   "cell_type": "markdown",
   "id": "04fd65d6",
   "metadata": {},
   "source": [
    "# Write a function to make a request and visualize the data returned by the search function.."
   ]
  },
  {
   "cell_type": "code",
   "execution_count": 29,
   "id": "66117adb",
   "metadata": {},
   "outputs": [],
   "source": [
    "def request(product=\"\"):\n",
    "    # product name should always be in a string...\n",
    "    product = str(product)\n",
    "    # Check if the Pid  is valid...\n",
    "    if(product.replace(\" \", \"\").strip() == \"\"):\n",
    "        return f\"Invalid Pid Name\"\n",
    "    \n",
    "    # Make a request to fetch the product info...\n",
    "    response = getClosestMatch(queryString = product)\n",
    "\n",
    "    # Check the response code...\n",
    "    if response[\"response code\"] == 404:\n",
    "        return f\"ERROR: No records found\"\n",
    "    \n",
    "   \n",
    "    data_to_print = f\"\\\n",
    "    date_first_available          : {response['response body']['date_first_available']}\\n\\\n",
    "    Genre          : {response['response body']['genre']}\\n\\\n",
    "    User Ratings   : ---------------------------\\n\\\n",
    "    \"\n",
    "    print(data_to_print)\n",
    "    print(table)"
   ]
  },
  {
   "cell_type": "markdown",
   "id": "5bf83046",
   "metadata": {},
   "source": [
    "# Finally Make a request..."
   ]
  },
  {
   "cell_type": "code",
   "execution_count": 30,
   "id": "9c1e0279",
   "metadata": {},
   "outputs": [
    {
     "ename": "KeyError",
     "evalue": "\"{'brandname': 'Bhagirath fab', 'datefirst': '2020-03-01T00:00:00', 'imageurl': 'https://images-na.ssl-images-amazon.com/images/I/61XinzsWunL._SL1100_.jpg', 'productdicrip': 'IND mask covers the user’s nose and mouth and provides a physical barrier to fluids and particulate materials. The surgical masks referenced in this guidance document include masks that are labeled as a surgical  laser  isolation  dental or medical procedure masks with or without a face shield.', 'productname': 'BHAGIRATH Standard comfort Disposable Pollution/Surgical Elastic Mask Surgical Face Mask with Earloop Great for Air Pollution Virus. 1', 'producturl': 'https://www.amazon.in/BHAGIRATH-Standard-Disposable-Pollution-Surgical/dp/B085GL266P/', 'rimi': {'discountprice': 0.99, 'mrp': 16999, 'saleprice': 199, 'sellername': 'Bhagirath fab'}}\"",
     "output_type": "error",
     "traceback": [
      "\u001b[1;31m---------------------------------------------------------------------------\u001b[0m",
      "\u001b[1;31mKeyError\u001b[0m                                  Traceback (most recent call last)",
      "\u001b[1;32m<ipython-input-30-aa36c904e695>\u001b[0m in \u001b[0;36m<module>\u001b[1;34m\u001b[0m\n\u001b[1;32m----> 1\u001b[1;33m \u001b[0mrequest\u001b[0m\u001b[1;33m(\u001b[0m\u001b[0mproduct\u001b[0m\u001b[1;33m=\u001b[0m\u001b[1;34m\"B085GL266P\"\u001b[0m\u001b[1;33m)\u001b[0m\u001b[1;33m\u001b[0m\u001b[1;33m\u001b[0m\u001b[0m\n\u001b[0m",
      "\u001b[1;32m<ipython-input-29-2aa13cef72ac>\u001b[0m in \u001b[0;36mrequest\u001b[1;34m(product)\u001b[0m\n\u001b[0;32m      7\u001b[0m \u001b[1;33m\u001b[0m\u001b[0m\n\u001b[0;32m      8\u001b[0m     \u001b[1;31m# Make a request to fetch the product info...\u001b[0m\u001b[1;33m\u001b[0m\u001b[1;33m\u001b[0m\u001b[1;33m\u001b[0m\u001b[0m\n\u001b[1;32m----> 9\u001b[1;33m     \u001b[0mresponse\u001b[0m \u001b[1;33m=\u001b[0m \u001b[0mgetClosestMatch\u001b[0m\u001b[1;33m(\u001b[0m\u001b[0mqueryString\u001b[0m \u001b[1;33m=\u001b[0m \u001b[0mproduct\u001b[0m\u001b[1;33m)\u001b[0m\u001b[1;33m\u001b[0m\u001b[1;33m\u001b[0m\u001b[0m\n\u001b[0m\u001b[0;32m     10\u001b[0m \u001b[1;33m\u001b[0m\u001b[0m\n\u001b[0;32m     11\u001b[0m     \u001b[1;31m# Check the response code...\u001b[0m\u001b[1;33m\u001b[0m\u001b[1;33m\u001b[0m\u001b[1;33m\u001b[0m\u001b[0m\n",
      "\u001b[1;32m<ipython-input-28-024cbd39b6a8>\u001b[0m in \u001b[0;36mgetClosestMatch\u001b[1;34m(queryString)\u001b[0m\n\u001b[0;32m     25\u001b[0m     \u001b[1;31m# Now we have Pid which is the primary key in our main data-store...\u001b[0m\u001b[1;33m\u001b[0m\u001b[1;33m\u001b[0m\u001b[1;33m\u001b[0m\u001b[0m\n\u001b[0;32m     26\u001b[0m     \u001b[1;31m# Retrieve the details of the product from the Pid\u001b[0m\u001b[1;33m\u001b[0m\u001b[1;33m\u001b[0m\u001b[1;33m\u001b[0m\u001b[0m\n\u001b[1;32m---> 27\u001b[1;33m     \u001b[0mdhamakaInfo\u001b[0m            \u001b[1;33m=\u001b[0m \u001b[0mdata\u001b[0m\u001b[1;33m[\u001b[0m\u001b[0mstr\u001b[0m\u001b[1;33m(\u001b[0m\u001b[0mbestMatch_product_url\u001b[0m\u001b[1;33m)\u001b[0m\u001b[1;33m]\u001b[0m\u001b[1;33m\u001b[0m\u001b[1;33m\u001b[0m\u001b[0m\n\u001b[0m\u001b[0;32m     28\u001b[0m     \u001b[1;31m#try:\u001b[0m\u001b[1;33m\u001b[0m\u001b[1;33m\u001b[0m\u001b[1;33m\u001b[0m\u001b[0m\n\u001b[0;32m     29\u001b[0m     \u001b[1;31m#    dhamakaInfo=data[str(bestMatch_product_url)]\u001b[0m\u001b[1;33m\u001b[0m\u001b[1;33m\u001b[0m\u001b[1;33m\u001b[0m\u001b[0m\n",
      "\u001b[1;31mKeyError\u001b[0m: \"{'brandname': 'Bhagirath fab', 'datefirst': '2020-03-01T00:00:00', 'imageurl': 'https://images-na.ssl-images-amazon.com/images/I/61XinzsWunL._SL1100_.jpg', 'productdicrip': 'IND mask covers the user’s nose and mouth and provides a physical barrier to fluids and particulate materials. The surgical masks referenced in this guidance document include masks that are labeled as a surgical  laser  isolation  dental or medical procedure masks with or without a face shield.', 'productname': 'BHAGIRATH Standard comfort Disposable Pollution/Surgical Elastic Mask Surgical Face Mask with Earloop Great for Air Pollution Virus. 1', 'producturl': 'https://www.amazon.in/BHAGIRATH-Standard-Disposable-Pollution-Surgical/dp/B085GL266P/', 'rimi': {'discountprice': 0.99, 'mrp': 16999, 'saleprice': 199, 'sellername': 'Bhagirath fab'}}\""
     ]
    }
   ],
   "source": [
    "request(product=\"B085GL266P\")"
   ]
  },
  {
   "cell_type": "markdown",
   "id": "0d8e22b2",
   "metadata": {},
   "source": [
    "# the keyerror contains all info about the product user searched"
   ]
  }
 ],
 "metadata": {
  "kernelspec": {
   "display_name": "Python 3",
   "language": "python",
   "name": "python3"
  },
  "language_info": {
   "codemirror_mode": {
    "name": "ipython",
    "version": 3
   },
   "file_extension": ".py",
   "mimetype": "text/x-python",
   "name": "python",
   "nbconvert_exporter": "python",
   "pygments_lexer": "ipython3",
   "version": "3.8.8"
  }
 },
 "nbformat": 4,
 "nbformat_minor": 5
}
