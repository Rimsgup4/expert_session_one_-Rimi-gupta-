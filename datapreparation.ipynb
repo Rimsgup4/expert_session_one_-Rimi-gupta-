{
 "cells": [
  {
   "cell_type": "markdown",
   "id": "3b746dac",
   "metadata": {},
   "source": [
    "# Data Preparation\n"
   ]
  },
  {
   "cell_type": "markdown",
   "id": "ab79caac",
   "metadata": {},
   "source": [
    "**In this notebook we will prepare our data for our search function to useCurrently we have data stored in two different csv files**\n",
    "\n",
    "\n",
    ".rimi main.csv\n",
    "\n",
    ".Rimi1.csv\n",
    "\n",
    "**It can be computationally expensive to produce analysis results from multiple data-sources for incomming stream of requests.\n",
    "So we will prepare our data and save it in an easily searchable structure**"
   ]
  },
  {
   "cell_type": "code",
   "execution_count": 1,
   "id": "63d8a65d",
   "metadata": {},
   "outputs": [],
   "source": [
    "# Import the needed modules...\n",
    "import pandas as pd\n",
    "from collections import defaultdict\n",
    "from os import getcwd"
   ]
  },
  {
   "cell_type": "markdown",
   "id": "2f8c6370",
   "metadata": {},
   "source": [
    "# Data Engineering\n",
    ".##Get data in dataframes.\n",
    "\n",
    ".##Convert data to a single dictionary."
   ]
  },
  {
   "cell_type": "code",
   "execution_count": 2,
   "id": "a011a12e",
   "metadata": {},
   "outputs": [
    {
     "name": "stdout",
     "output_type": "stream",
     "text": [
      "COLUMNS : ['Pid', 'mrp', 'sale_price', 'discount_percentage', 'seller_name']\n"
     ]
    }
   ],
   "source": [
    "\"\"\"\n",
    "    Read data from Rimi1.csv\n",
    "\"\"\"\n",
    "Rimi= pd.read_csv('Rimi1.csv')\n",
    "Rimi_table_columns = Rimi.columns.tolist()\n",
    "print(f\"COLUMNS : {Rimi_table_columns}\")"
   ]
  },
  {
   "cell_type": "code",
   "execution_count": 3,
   "id": "0e8c9f71",
   "metadata": {},
   "outputs": [
    {
     "name": "stdout",
     "output_type": "stream",
     "text": [
      "COLUMNS : ['product_name', 'Pid', 'product_url', 'brand_name', 'image_url', 'product_description', 'date_first_available']\n"
     ]
    }
   ],
   "source": [
    "\"\"\"\n",
    "    Read data from rimi main.csv\n",
    "\"\"\"\n",
    "kajal= pd.read_csv('rimi main.csv')\n",
    "kajal_table_columns = kajal.columns.tolist()\n",
    "print(f\"COLUMNS : {kajal_table_columns}\")"
   ]
  },
  {
   "cell_type": "markdown",
   "id": "6b0ca7d8",
   "metadata": {},
   "source": [
    ".### Pid is a common column in all two tables so we will use it as a primary search-key\n",
    "\n",
    ".### Pid is a common key across two tables, so we will use it as a sort key...\n",
    "\n",
    ".### A user will always search a movie by its Pid so we will create a Global secondary index to be able to perform search our datastore it will obviously take some extra space but almost negligible as compared to the size of the original data.In addition, It will make our searching faster and efficient so it's a good deal."
   ]
  },
  {
   "cell_type": "code",
   "execution_count": 4,
   "id": "2b11585d",
   "metadata": {},
   "outputs": [
    {
     "name": "stdout",
     "output_type": "stream",
     "text": [
      "It is True  that the column 'Pid' has unique values for all entries in Rimi1 dataframe.\n",
      "It is True  that the column 'Pid' has unique values for all entries in rimi main dataframe.\n"
     ]
    }
   ],
   "source": [
    "print(f\"It is {pd.Series(Rimi['Pid']).is_unique}  that the column 'Pid' has unique values for all entries in Rimi1 dataframe.\")\n",
    "print(f\"It is {pd.Series(kajal['Pid']).is_unique}  that the column 'Pid' has unique values for all entries in rimi main dataframe.\")\n",
    "# Sort Rimi1 dataframe on the basis of Pid as Pid is unique for all entries...\n",
    "Rimi_sorted = Rimi.sort_values(by=['Pid'])\n",
    "\n",
    "# Sort rimi main dataframe on the basis of Pid as Pid is unique for all entries...\n",
    "kajal_sorted  = kajal.sort_values(by=['Pid'])"
   ]
  },
  {
   "cell_type": "code",
   "execution_count": 5,
   "id": "4140a1a0",
   "metadata": {},
   "outputs": [],
   "source": [
    "\n",
    "# from Rimi1 dataframe...\n",
    "Pids    = kajal_sorted[\"Pid\"].tolist()\n",
    "product_url = kajal_sorted[\"product_url\"].tolist()\n",
    "product_name=kajal_sorted[\"product_name\"].tolist()\n",
    "brand_name=kajal_sorted[\"brand_name\"].tolist()\n",
    "image_url=kajal_sorted[\"image_url\"].tolist()\n",
    "product_disc=kajal_sorted[\"product_description\"].tolist()\n",
    "date_first=kajal_sorted[\"date_first_available\"].tolist()\n",
    "\n",
    "\n",
    "\n",
    "\n",
    "\n",
    "# from rimi main dataframe...\n",
    "MRP=Rimi_sorted[\"mrp\"].tolist()\n",
    "sale_price=Rimi_sorted[\"sale_price\"].tolist()\n",
    "discount_price=Rimi_sorted[\"discount_percentage\"].tolist()\n",
    "seller_name=Rimi_sorted[\"seller_name\"].tolist()\n",
    "\n"
   ]
  },
  {
   "cell_type": "code",
   "execution_count": 6,
   "id": "3c0d147d",
   "metadata": {},
   "outputs": [],
   "source": [
    "kajalDict             = {}\n",
    "global_secondaryIndex = {}\n",
    "kajallist=[]\n",
    "for idx, Pid in enumerate(Pids):\n",
    "    kajallist.append(Pid)\n",
    "    kajalDict[Pid] ={\n",
    "        \n",
    "        \"producturl\" : product_url[idx],\n",
    "        \"productname\" : product_name[idx],\n",
    "        \"imageurl\" : image_url[idx],\n",
    "        \"brandname\" : brand_name[idx],\n",
    "        \"productdicrip\":product_disc[idx],\n",
    "        \"datefirst\" : date_first[idx],\n",
    "        \n",
    "        \"rimi\" : {\n",
    "            \"mrp\" : MRP[idx], \n",
    "            \"saleprice\" : sale_price[idx],\n",
    "            \"discountprice\" : discount_price[idx],\n",
    "            \"sellername\": seller_name[idx]\n",
    "            \n",
    "        }\n",
    "    }\n",
    "    \n",
    "    global_secondaryIndex[Pid] = product_url[idx]"
   ]
  },
  {
   "cell_type": "code",
   "execution_count": 7,
   "id": "1d7924d1",
   "metadata": {},
   "outputs": [],
   "source": [
    "# delete veriables which are no longer in use while holding large amount of data.\n",
    "del Pids\n",
    "del product_url\n",
    "del product_name\n",
    "del brand_name\n",
    "del image_url\n",
    "del product_disc\n",
    "del date_first\n",
    "del MRP\n",
    "del seller_name\n",
    "del sale_price\n",
    "del discount_price"
   ]
  },
  {
   "cell_type": "code",
   "execution_count": 8,
   "id": "9df42c31",
   "metadata": {},
   "outputs": [
    {
     "name": "stdout",
     "output_type": "stream",
     "text": [
      "[INFO] Writing Rimi1 data into the disk...\n",
      "[INFO] Writing Global Secondary Index Data into the disk...\n"
     ]
    }
   ],
   "source": [
    "import json\n",
    "print(\"[INFO] Writing Rimi1 data into the disk...\")\n",
    "with open('kajal.json', 'w') as fp:\n",
    "    json.dump(kajalDict, fp, sort_keys=True, indent=4)\n",
    "print(\"[INFO] Writing Global Secondary Index Data into the disk...\")\n",
    "with open('dataFinal_GIS.json', 'w') as fp:\n",
    "    json.dump(global_secondaryIndex, fp, sort_keys=True, indent=4)"
   ]
  },
  {
   "cell_type": "markdown",
   "id": "207d598a",
   "metadata": {},
   "source": [
    "***At this point, our database is ready and it can handel high inflow of requests***"
   ]
  }
 ],
 "metadata": {
  "kernelspec": {
   "display_name": "Python 3",
   "language": "python",
   "name": "python3"
  },
  "language_info": {
   "codemirror_mode": {
    "name": "ipython",
    "version": 3
   },
   "file_extension": ".py",
   "mimetype": "text/x-python",
   "name": "python",
   "nbconvert_exporter": "python",
   "pygments_lexer": "ipython3",
   "version": "3.8.8"
  }
 },
 "nbformat": 4,
 "nbformat_minor": 5
}
